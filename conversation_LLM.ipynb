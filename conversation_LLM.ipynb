{
 "cells": [
  {
   "cell_type": "code",
   "execution_count": null,
   "metadata": {},
   "outputs": [],
   "source": [
    "from IPython.display import display, Markdown, HTML\n",
    "import logging\n",
    "import random"
   ]
  },
  {
   "cell_type": "code",
   "execution_count": 3,
   "metadata": {},
   "outputs": [],
   "source": [
    "# Suppress INFO messages from httpx as there can be distracting messages that aren't relevant to the user\n",
    "logging.getLogger(\"httpx\").setLevel(logging.ERROR)\n",
    "\n",
    "class Chatbot:\n",
    "    def __init__(self, model_name, system_role_content, max_inputs, tone, input_length_limit=4000):\n",
    "        # set instance variables\n",
    "        self.max_inputs = max_inputs\n",
    "        self.input_length_limit = input_length_limit\n",
    "        # Initialize history list to store the conversation history\n",
    "        self.history = []\n",
    "        # Initialize input count to keep track of the number of inputs\n",
    "        self.input_count = 0\n",
    "\n",
    "        # Set tone parameters by calling set_tone method defined below\n",
    "        self.set_tone(tone)\n",
    "        \n",
    "        from class_version import OpenAIClient\n",
    "        # Initialize the AI instance with the tone parameters\n",
    "        self.ai = OpenAIClient(\n",
    "            model_name=model_name,\n",
    "            system_role_content=system_role_content,\n",
    "            \n",
    "            # use the values set by set_tone method \n",
    "            temperature=self.temperature,\n",
    "            top_p=self.top_p\n",
    "        )\n",
    "\n",
    "    def set_tone(self, tone):\n",
    "        \n",
    "        # set temperature and top_p based on the tone by choosing random value within the given range\n",
    "        if tone == \"creative\":\n",
    "            self.temperature = random.uniform(0.8, 1.35)\n",
    "            self.top_p = random.uniform(0.8, 1.0)\n",
    "        elif tone == \"balanced\":\n",
    "            # there is a buffer zone of .7 to .8 to create a defined difference between balanced and creative\n",
    "            self.temperature = random.uniform(0.4, 0.7)\n",
    "            self.top_p = random.uniform(0.4, 0.7)\n",
    "        elif tone == \"precise\":\n",
    "            # there is a buffer zone of .3 to .4 to create a defined difference between balanced and precise\n",
    "            self.temperature = random.uniform(0.0, 0.3)\n",
    "            self.top_p = random.uniform(0.0, 0.3)\n",
    "        else:\n",
    "            raise ValueError(\"Invalid tone. Choose from 'creative', 'balanced', or 'precise'.\")\n",
    "        \n",
    "        \n",
    "        \n",
    "    def chat(self):\n",
    "        # loop to continue the conversation until the max_inputs is reached or the user types \"exit\" or \"quit\"\n",
    "        while self.input_count < self.max_inputs:\n",
    "            user_input = input(\"You: \")\n",
    "            if user_input.lower() in [\"exit\", \"quit\"]:\n",
    "                break\n",
    "\n",
    "            if len(user_input.split()) > self.input_length_limit:\n",
    "                display(Markdown(f\"__Error: Input exceeds the length limit of {self.input_length_limit} words.__\"))\n",
    "                # skip the current iteration and continue with the next iteration\n",
    "                continue\n",
    "\n",
    "            # Display user prompt\n",
    "            display(HTML(f'''\n",
    "                        <article style=\"background-color: rgb(70, 70, 70); margin: 10px; padding: 10px; height: auto; \n",
    "                        line-height: 1.5; width: 75%\"><b>You:</b> {user_input}</article>\n",
    "                        '''))\n",
    "\n",
    "            # Add user input to history\n",
    "            self.history.append(f\"User: {user_input}\")\n",
    "\n",
    "            # Create a prompt with the conversation history by using the join method to concatenate the list of prompts and responses\n",
    "            prompt = \"\\n\".join(self.history) + f\"\\nAI:\"\n",
    "\n",
    "            # Get the AI response\n",
    "            response = self.ai.get_response(prompt)\n",
    "\n",
    "            # Add AI response to history\n",
    "            self.history.append(f\"AI: {response}\")\n",
    "\n",
    "            # Increment the input count\n",
    "            self.input_count += 1\n",
    "            \n",
    "            # Display AI response\n",
    "            display(Markdown(f\"__AI:__ {response}\"))\n",
    "            \n",
    "            if self.input_count >= self.max_inputs:\n",
    "              display(Markdown(f\"### __This conversation has reached the limit of {self.max_inputs} inputs.__\"))\n",
    "              \n",
    "        print(\"Saving file....\") \n",
    "        print(\"This may take a few moments.\")\n",
    "        self.save_conversation()\n",
    "        \n",
    "        \n",
    "        \n",
    "    def save_conversation(self):\n",
    "        from class_version import OpenAIClient\n",
    "        self.ai = OpenAIClient(\n",
    "            model_name='gpt-4o-mini',\n",
    "            system_role_content=\"You are a helpful assistant.\",\n",
    "            temperature=0.1,\n",
    "            top_p=0.1\n",
    "        )\n",
    "        name = self.ai.get_response(f\"\"\"The following is a record of a conversation between a user and an AI assistant: {self.history}\n",
    "                            Please find a word or a phrase with which to name this conversation to be the name of the file.\n",
    "                            The name should be no longer than three words and should not contain any special characters or spaces.\"\"\")\n",
    "        \n",
    "        # Define the directory path\n",
    "        import os\n",
    "        directory = \"C:/Users/Rebecca/OneDrive/Documents/Python AI/AI Conversations\"\n",
    "        \n",
    "        # Ensure the directory exists\n",
    "        if not os.path.exists(directory):\n",
    "            os.makedirs(directory)\n",
    "        \n",
    "        # Use the directory path when opening the file\n",
    "        file_path = os.path.join(directory, name)\n",
    "        \n",
    "        try:\n",
    "            with open(file_path + \".md\", \"w\") as markdown:\n",
    "                for message in self.history:\n",
    "                    markdown.write(message + \"\\n\")\n",
    "                \n",
    "                    \n",
    "            with open(file_path + \".md\", \"r\") as markdown:\n",
    "                md_content = markdown.read()\n",
    "            \n",
    "            \n",
    "            with open('html_formatting.txt', 'r') as html_instructions:  \n",
    "                instructions = html_instructions.read()\n",
    "            \n",
    "                \n",
    "                html_dev = OpenAIClient(model_name='gpt-4o-mini', \n",
    "                                        system_role_content=\"You are a skilled web developer.\", \n",
    "                                        temperature=0.1, \n",
    "                                        top_p=0.1)\n",
    "                \n",
    "                import datetime\n",
    "                # Current date and time\n",
    "                date = datetime.datetime.now()\n",
    "\n",
    "                # Format date and time\n",
    "                formatted_date = date.strftime(\"%b %#d, %Y %#I:%M %p\")\n",
    "        \n",
    "                conversation = html_dev.get_response(f\"\"\"Please convert {md_content} to HTML format preserving the markdown formatting it has.\n",
    "                                        You can use the following code as a template: {instructions}. Pleaes put this as the date in the top right corner: {formatted_date}\n",
    "                                        The file name should be displayed as an h2 header at the top of the page. This is the name: {name}\n",
    "                                        \"\"\") \n",
    "                \n",
    "            with open(file_path + \".html\", \"w\") as file:\n",
    "                # Trim the conversation to only include the actual HTML and not the response of the AI\n",
    "                start_index = conversation.find(\"<!DOCTYPE html>\")\n",
    "                end_index = conversation.rfind(\"</html>\") + len(\"</html>\")\n",
    "                conversation = conversation[start_index:end_index]\n",
    "                file.write(conversation)\n",
    "                \n",
    "            # Verify the HTML file was created and has valid content\n",
    "            if os.path.exists(file_path + \".html\") and os.path.getsize(file_path + \".html\") > 30:  # Threshold for meaningful content\n",
    "                os.remove(file_path + \".md\")  # Delete the .md file\n",
    "                extension = \".html\"\n",
    "                \n",
    "            else:\n",
    "            # keep the markdown file if the HTML file is empty or has insufficient content\n",
    "                extension = \".md\"\n",
    "                raise ValueError(\"HTML file is empty or has insufficient content.\")\n",
    "              \n",
    "                \n",
    "                  \n",
    "        except Exception as e:\n",
    "            print(f\"Error: {e}\")\n",
    "        \n",
    "        display(Markdown(f\"### __The conversation has been saved as {name}.{extension}__\"))    \n",
    "\n"
   ]
  },
  {
   "cell_type": "code",
   "execution_count": 4,
   "metadata": {},
   "outputs": [
    {
     "data": {
      "text/html": [
       "\n",
       "                        <article style=\"background-color: rgb(70, 70, 70); margin: 10px; padding: 10px; height: auto; \n",
       "                        line-height: 1.5; width: 75%\"><b>You:</b> Hey how are you doing</article>\n",
       "                        "
      ],
      "text/plain": [
       "<IPython.core.display.HTML object>"
      ]
     },
     "metadata": {},
     "output_type": "display_data"
    },
    {
     "data": {
      "text/markdown": [
       "__AI:__ Hello! I'm just a program, so I don't have feelings, but I'm here and ready to help you. How can I assist you today?"
      ],
      "text/plain": [
       "<IPython.core.display.Markdown object>"
      ]
     },
     "metadata": {},
     "output_type": "display_data"
    },
    {
     "data": {
      "text/html": [
       "\n",
       "                        <article style=\"background-color: rgb(70, 70, 70); margin: 10px; padding: 10px; height: auto; \n",
       "                        line-height: 1.5; width: 75%\"><b>You:</b> So I'm just opening up this Jupiter notebook I haven't opened it up in a while so it tells me it gives me an option for Jupiter environments python environments other environments are cardinals I never know which one to chew it i'll just choose a random one break it down for me and tell me when I should choose a specific kernel</article>\n",
       "                        "
      ],
      "text/plain": [
       "<IPython.core.display.HTML object>"
      ]
     },
     "metadata": {},
     "output_type": "display_data"
    },
    {
     "data": {
      "text/markdown": [
       "__AI:__ When you open a Jupyter Notebook, you're prompted to select a kernel, which is essentially the environment in which your code will run. Here's a breakdown of the options you might encounter and when to choose each one:\n",
       "\n",
       "1. **Python Environments**:\n",
       "   - **Base Environment**: This is the default Python environment that comes with your Anaconda installation (if you're using Anaconda) or your system's default Python environment. Use this if you haven't set up any specific environments or if your notebook doesn't require any special packages.\n",
       "   - **Custom Python Environments**: These are environments you've created using tools like `conda` or `virtualenv`. Choose one of these if your notebook requires specific packages or versions that are installed in that environment. For example, if you have a project that relies on a specific version of a library, you should select the environment where that version is installed.\n",
       "\n",
       "2. **Other Languages (e.g., R, Julia)**:\n",
       "   - If you have kernels for other languages installed, such as R or Julia, you can choose these if your notebook is written in that language. Jupyter supports multiple languages, so if you're working with a notebook that contains R code, for example, you'll need to select the R kernel.\n",
       "\n",
       "3. **Specialized Kernels**:\n",
       "   - **IPython Kernel**: This is the default kernel for Python code in Jupyter. It's a good choice for general Python development.\n",
       "   - **Other Specialized Kernels**: Sometimes, you might have kernels that are optimized for specific tasks, such as data science or machine learning. These might come pre-installed with certain libraries or tools that are useful for those tasks.\n",
       "\n",
       "### When to Choose a Specific Kernel:\n",
       "\n",
       "- **Project-Specific Requirements**: If your project requires specific libraries or versions, choose the environment where those are installed.\n",
       "- **Language Requirements**: If your notebook is written in a language other than Python, select the appropriate kernel for that language.\n",
       "- **Consistency Across Projects**: If you're working on multiple projects, it can be helpful to create and use separate environments for each to avoid conflicts between package versions.\n",
       "- **Performance and Features**: Some environments might be optimized for performance or include additional features that are beneficial for your work.\n",
       "\n",
       "In general, it's a good practice to create a new environment for each project to manage dependencies more effectively. This way, you can ensure that your code runs consistently and without conflicts."
      ],
      "text/plain": [
       "<IPython.core.display.Markdown object>"
      ]
     },
     "metadata": {},
     "output_type": "display_data"
    },
    {
     "data": {
      "text/html": [
       "\n",
       "                        <article style=\"background-color: rgb(70, 70, 70); margin: 10px; padding: 10px; height: auto; \n",
       "                        line-height: 1.5; width: 75%\"><b>You:</b> Okay I don't think I've used condor or anaconda I mean I have used virtual environments sometimes but though that's something I just create like in the terminal again i'm specifically talking about a Jupiter notebook it gives me a an option for Python environments or Jupiter notebooks or Jupiter or kernels that's where I'd like to know</article>\n",
       "                        "
      ],
      "text/plain": [
       "<IPython.core.display.HTML object>"
      ]
     },
     "metadata": {},
     "output_type": "display_data"
    },
    {
     "data": {
      "text/markdown": [
       "__AI:__ Got it! Let's focus on the options you see in Jupyter Notebook when selecting a kernel, especially if you're not using Anaconda or Conda environments.\n",
       "\n",
       "### Understanding Jupyter Notebook Kernel Options:\n",
       "\n",
       "1. **Python Environments**:\n",
       "   - **System Python**: This is the default Python installation on your system. If you haven't set up any virtual environments, this is likely what you're using. It's a good choice if you don't have specific package requirements or if you're working on a simple project.\n",
       "   - **Virtual Environments**: If you've created virtual environments using `venv` or `virtualenv`, these can be used as kernels in Jupyter. To use a virtual environment as a kernel, you need to install the `ipykernel` package within that environment and register it with Jupyter. This is useful for projects with specific dependencies.\n",
       "\n",
       "2. **Jupyter Kernels**:\n",
       "   - **IPython Kernel**: This is the standard kernel for running Python code in Jupyter. It's suitable for most Python projects unless you have specific needs that require a different setup.\n",
       "   - **Other Language Kernels**: If you have installed kernels for other languages (like R or Julia), they will appear as options. Choose these if your notebook is written in that language.\n",
       "\n",
       "### How to Choose the Right Kernel:\n",
       "\n",
       "- **Using Virtual Environments**: If you have a virtual environment set up for your project, you should use it to ensure all dependencies are correctly managed. To add a virtual environment as a Jupyter kernel, activate the environment and run:\n",
       "  ```bash\n",
       "  pip install ipykernel\n",
       "  python -m ipykernel install --user --name=myenv --display-name \"Python (myenv)\"\n",
       "  ```\n",
       "  Replace `myenv` with the name of your environment. This will make it appear as an option in Jupyter.\n",
       "\n",
       "- **Default/System Python**: If you don't have specific dependencies or are working on a simple script, using the system Python or the default IPython kernel is fine.\n",
       "\n",
       "- **Project-Specific Needs**: If your project has specific requirements (e.g., certain libraries or versions), ensure those are installed in the environment you choose. This might mean setting up a virtual environment specifically for that project.\n",
       "\n",
       "In summary, if you're not using Conda, managing virtual environments with `venv` or `virtualenv` and setting them up as Jupyter kernels is a good practice for keeping your projects organized and dependencies isolated."
      ],
      "text/plain": [
       "<IPython.core.display.Markdown object>"
      ]
     },
     "metadata": {},
     "output_type": "display_data"
    },
    {
     "data": {
      "text/html": [
       "\n",
       "                        <article style=\"background-color: rgb(70, 70, 70); margin: 10px; padding: 10px; height: auto; \n",
       "                        line-height: 1.5; width: 75%\"><b>You:</b> well I just always use my global Pyth....to have any issues is that a bad idea</article>\n",
       "                        "
      ],
      "text/plain": [
       "<IPython.core.display.HTML object>"
      ]
     },
     "metadata": {},
     "output_type": "display_data"
    },
    {
     "data": {
      "text/markdown": [
       "__AI:__ Using your global Python installation for Jupyter Notebooks is not inherently a bad idea, especially if your projects are simple and don't have conflicting dependencies. However, there are some potential downsides and considerations to keep in mind:\n",
       "\n",
       "### Potential Issues with Using Global Python:\n",
       "\n",
       "1. **Dependency Conflicts**: If you install multiple packages globally, you might run into version conflicts. For example, one project might require `pandas==1.2.0` while another requires `pandas==1.3.0`. Managing these dependencies globally can become cumbersome and error-prone.\n",
       "\n",
       "2. **System Stability**: Installing and updating packages globally can sometimes affect system tools or other applications that rely on Python. This is especially true if you're using Python that comes pre-installed with your operating system.\n",
       "\n",
       "3. **Reproducibility**: If you share your code with others or move it to a different machine, it might not work if the global environment is different. Virtual environments help encapsulate dependencies, making it easier to reproduce the same setup elsewhere.\n",
       "\n",
       "4. **Clutter**: Over time, your global Python environment can become cluttered with packages that are no longer needed, which can slow down package management operations and increase the risk of conflicts.\n",
       "\n",
       "### Benefits of Using Virtual Environments:\n",
       "\n",
       "- **Isolation**: Each project can have its own set of dependencies, which prevents conflicts and makes it easier to manage different projects with different requirements.\n",
       "- **Reproducibility**: You can easily share your `requirements.txt` or `Pipfile` with others, allowing them to set up the same environment.\n",
       "- **Cleaner Global Environment**: Your global Python installation remains clean and stable, reducing the risk of system issues.\n",
       "\n",
       "### Recommendations:\n",
       "\n",
       "- **For Simple Projects**: If your projects are simple and don't have conflicting dependencies, using the global Python environment is fine. Just be cautious about installing packages that might affect other projects.\n",
       "  \n",
       "- **For Complex Projects**: For projects with specific dependencies or if you're working on multiple projects simultaneously, it's a good idea to use virtual environments. They provide a clean and isolated space for each project.\n",
       "\n",
       "In summary, while using the global Python environment is convenient, virtual environments offer more flexibility and control, especially as your projects grow in complexity. If you haven't encountered issues yet, that's great, but it's worth considering virtual environments as a best practice for future projects."
      ],
      "text/plain": [
       "<IPython.core.display.Markdown object>"
      ]
     },
     "metadata": {},
     "output_type": "display_data"
    },
    {
     "name": "stdout",
     "output_type": "stream",
     "text": [
      "Saving file....\n",
      "This may take a few moments.\n"
     ]
    },
    {
     "data": {
      "text/markdown": [
       "### __The conversation has been saved as JupyterKernelSelection..html__"
      ],
      "text/plain": [
       "<IPython.core.display.Markdown object>"
      ]
     },
     "metadata": {},
     "output_type": "display_data"
    }
   ],
   "source": [
    "chatbot = Chatbot(\n",
    "    model_name=\"gpt-4o\",\n",
    "    system_role_content=\"\"\"You are a tech expert. \"\"\",\n",
    "    max_inputs=50,\n",
    "    tone=\"balanced\"\n",
    ")\n",
    "\n",
    "chatbot.chat()       "
   ]
  }
 ],
 "metadata": {
  "kernelspec": {
   "display_name": "Python 3",
   "language": "python",
   "name": "python3"
  },
  "language_info": {
   "codemirror_mode": {
    "name": "ipython",
    "version": 3
   },
   "file_extension": ".py",
   "mimetype": "text/x-python",
   "name": "python",
   "nbconvert_exporter": "python",
   "pygments_lexer": "ipython3",
   "version": "3.11.3"
  }
 },
 "nbformat": 4,
 "nbformat_minor": 2
}
