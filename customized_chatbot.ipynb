{
 "cells": [
  {
   "cell_type": "code",
   "execution_count": 5,
   "metadata": {},
   "outputs": [],
   "source": [
    "with open('dummy_data.txt', 'r', encoding='utf-8') as file:\n",
    "    dummy_content = file.read()"
   ]
  },
  {
   "cell_type": "code",
   "execution_count": 6,
   "metadata": {},
   "outputs": [
    {
     "data": {
      "text/html": [
       "\n",
       "                        <article style=\"background-color: rgb(70, 70, 70); margin: 10px; padding: 10px; height: auto; \n",
       "                        line-height: 1.5; width: 75%\"><b>You:</b> what can we talk about?</article>\n",
       "                        "
      ],
      "text/plain": [
       "<IPython.core.display.HTML object>"
      ]
     },
     "metadata": {},
     "output_type": "display_data"
    },
    {
     "data": {
      "text/html": [
       "\n",
       "                        <main style=\"background-color: rgb(0, 255, 0); margin: 10px; padding: 10px; height: auto; \n",
       "                        line-height: 1.5; width: 75%\"><b>AI:</b> <p>We can discuss various aspects of the text, such as Elena Voss's character, her bookshop, the significance of her brother Thomas, the themes present in her organization of books, or the mysterious note from the young traveler. What specific aspect are you interested in exploring?</p>\n",
       "</main>\n",
       "                        "
      ],
      "text/plain": [
       "<IPython.core.display.HTML object>"
      ]
     },
     "metadata": {},
     "output_type": "display_data"
    },
    {
     "data": {
      "text/html": [
       "\n",
       "                        <article style=\"background-color: rgb(70, 70, 70); margin: 10px; padding: 10px; height: auto; \n",
       "                        line-height: 1.5; width: 75%\"><b>You:</b> why can't we talk about computer science?</article>\n",
       "                        "
      ],
      "text/plain": [
       "<IPython.core.display.HTML object>"
      ]
     },
     "metadata": {},
     "output_type": "display_data"
    },
    {
     "data": {
      "text/html": [
       "\n",
       "                        <main style=\"background-color: rgb(0, 255, 0); margin: 10px; padding: 10px; height: auto; \n",
       "                        line-height: 1.5; width: 75%\"><b>AI:</b> <p>hmm... I'm not sure about that. Can you ask me something else?</p>\n",
       "</main>\n",
       "                        "
      ],
      "text/plain": [
       "<IPython.core.display.HTML object>"
      ]
     },
     "metadata": {},
     "output_type": "display_data"
    },
    {
     "data": {
      "text/html": [
       "\n",
       "                        <article style=\"background-color: rgb(70, 70, 70); margin: 10px; padding: 10px; height: auto; \n",
       "                        line-height: 1.5; width: 75%\"><b>You:</b> ok how would you describe the topic we could speak about?</article>\n",
       "                        "
      ],
      "text/plain": [
       "<IPython.core.display.HTML object>"
      ]
     },
     "metadata": {},
     "output_type": "display_data"
    },
    {
     "data": {
      "text/html": [
       "\n",
       "                        <main style=\"background-color: rgb(0, 255, 0); margin: 10px; padding: 10px; height: auto; \n",
       "                        line-height: 1.5; width: 75%\"><b>AI:</b> <p>The topic we could speak about revolves around the life and character of Elena Voss, her unique bookshop, and the emotional tribute it serves to her late brother, Thomas. We can explore the significance of her meticulous habits, the intriguing way she organizes her books by personal themes rather than conventional categories, and the mysterious connections to her brother's past. Additionally, we can delve into the mysterious note from the traveler, its implications, and how it relates to Elena's journey of hope and searching for secrets linked to her brother. Each element we discuss can uncover deeper themes of memory, loss, and the quest for understanding. What aspect would you like to focus on?</p>\n",
       "</main>\n",
       "                        "
      ],
      "text/plain": [
       "<IPython.core.display.HTML object>"
      ]
     },
     "metadata": {},
     "output_type": "display_data"
    },
    {
     "data": {
      "text/html": [
       "\n",
       "                        <article style=\"background-color: rgb(70, 70, 70); margin: 10px; padding: 10px; height: auto; \n",
       "                        line-height: 1.5; width: 75%\"><b>You:</b> is it an easy read? how long would it take to read it?</article>\n",
       "                        "
      ],
      "text/plain": [
       "<IPython.core.display.HTML object>"
      ]
     },
     "metadata": {},
     "output_type": "display_data"
    },
    {
     "data": {
      "text/html": [
       "\n",
       "                        <main style=\"background-color: rgb(0, 255, 0); margin: 10px; padding: 10px; height: auto; \n",
       "                        line-height: 1.5; width: 75%\"><b>AI:</b> <p>hmm... I'm not sure about that. Can you ask me something else?</p>\n",
       "</main>\n",
       "                        "
      ],
      "text/plain": [
       "<IPython.core.display.HTML object>"
      ]
     },
     "metadata": {},
     "output_type": "display_data"
    },
    {
     "data": {
      "text/html": [
       "\n",
       "                        <article style=\"background-color: rgb(70, 70, 70); margin: 10px; padding: 10px; height: auto; \n",
       "                        line-height: 1.5; width: 75%\"><b>You:</b> hmm.. why can't you answer that question?</article>\n",
       "                        "
      ],
      "text/plain": [
       "<IPython.core.display.HTML object>"
      ]
     },
     "metadata": {},
     "output_type": "display_data"
    },
    {
     "data": {
      "text/html": [
       "\n",
       "                        <main style=\"background-color: rgb(0, 255, 0); margin: 10px; padding: 10px; height: auto; \n",
       "                        line-height: 1.5; width: 75%\"><b>AI:</b> <p>I'm unable to provide an answer to that question because the text is a narrative excerpt and does not include information about its length or difficulty level as a reading experience. Can you ask me something else?</p>\n",
       "</main>\n",
       "                        "
      ],
      "text/plain": [
       "<IPython.core.display.HTML object>"
      ]
     },
     "metadata": {},
     "output_type": "display_data"
    },
    {
     "data": {
      "text/html": [
       "\n",
       "                        <article style=\"background-color: rgb(70, 70, 70); margin: 10px; padding: 10px; height: auto; \n",
       "                        line-height: 1.5; width: 75%\"><b>You:</b> but you should be able to infer from its length?</article>\n",
       "                        "
      ],
      "text/plain": [
       "<IPython.core.display.HTML object>"
      ]
     },
     "metadata": {},
     "output_type": "display_data"
    },
    {
     "data": {
      "text/html": [
       "\n",
       "                        <main style=\"background-color: rgb(0, 255, 0); margin: 10px; padding: 10px; height: auto; \n",
       "                        line-height: 1.5; width: 75%\"><b>AI:</b> <p>While I can infer that the excerpt is relatively short and likely indicates a concise narrative style, I cannot determine the overall length of the complete work or its reading difficulty without additional context. The text does not provide explicit information regarding those aspects. If you have other questions related to the content, I'd be happy to help!</p>\n",
       "</main>\n",
       "                        "
      ],
      "text/plain": [
       "<IPython.core.display.HTML object>"
      ]
     },
     "metadata": {},
     "output_type": "display_data"
    },
    {
     "data": {
      "text/html": [
       "\n",
       "                        <article style=\"background-color: rgb(70, 70, 70); margin: 10px; padding: 10px; height: auto; \n",
       "                        line-height: 1.5; width: 75%\"><b>You:</b> what level of reading is it?</article>\n",
       "                        "
      ],
      "text/plain": [
       "<IPython.core.display.HTML object>"
      ]
     },
     "metadata": {},
     "output_type": "display_data"
    },
    {
     "data": {
      "text/html": [
       "\n",
       "                        <main style=\"background-color: rgb(0, 255, 0); margin: 10px; padding: 10px; height: auto; \n",
       "                        line-height: 1.5; width: 75%\"><b>AI:</b> <p>The text appears to be written at a level suitable for adult readers, given its themes of loss, memory, and emotional depth, as well as its use of sophisticated vocabulary and sentence structure. It may appeal to readers who enjoy literary fiction or narratives with a strong focus on character development and thematic exploration. If you're interested in more specific aspects of the text or its themes, feel free to ask!</p>\n",
       "</main>\n",
       "                        "
      ],
      "text/plain": [
       "<IPython.core.display.HTML object>"
      ]
     },
     "metadata": {},
     "output_type": "display_data"
    },
    {
     "data": {
      "text/markdown": [
       "### __The conversation has been saved as ElenaVossDiscussion.html.__"
      ],
      "text/plain": [
       "<IPython.core.display.Markdown object>"
      ]
     },
     "metadata": {},
     "output_type": "display_data"
    }
   ],
   "source": [
    "from create_chatbot import Chatbot\n",
    "\n",
    "with open(\"text.txt\", \"r\") as file:\n",
    "    text = file.read()\n",
    "    #print(text)\n",
    "# Example usage\n",
    "a = Chatbot(\n",
    "    model_name=\"gpt-4o-mini\",\n",
    "    system_role_content=f\"\"\"You are an expert in answering questions and analyzing the following text.{dummy_content}\n",
    "                            Please answer any questions or prompts that relate to the text. If there is a question \n",
    "                            that does not relate to the text, please respond with the following:\n",
    "                            \"hmm... I'm not sure about that. Can you ask me something else?\" If the question is \n",
    "                            related to the text but requires additional context or inference, please provide the best \n",
    "                            possible answer based on the information given.\"\"\",\n",
    "    max_inputs=30,\n",
    "    input_length_limit=100,\n",
    "    tone=\"creative\"\n",
    ")\n",
    "a.chat()\n"
   ]
  }
 ],
 "metadata": {
  "kernelspec": {
   "display_name": "Python 3",
   "language": "python",
   "name": "python3"
  },
  "language_info": {
   "codemirror_mode": {
    "name": "ipython",
    "version": 3
   },
   "file_extension": ".py",
   "mimetype": "text/x-python",
   "name": "python",
   "nbconvert_exporter": "python",
   "pygments_lexer": "ipython3",
   "version": "3.11.3"
  }
 },
 "nbformat": 4,
 "nbformat_minor": 2
}
