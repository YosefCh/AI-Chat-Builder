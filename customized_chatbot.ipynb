{
 "cells": [
  {
   "cell_type": "code",
   "execution_count": 7,
   "metadata": {},
   "outputs": [],
   "source": [
    "with open('dummy_data.txt', 'r', encoding='utf-8') as file:\n",
    "    dummy_content = file.read()"
   ]
  },
  {
   "cell_type": "code",
   "execution_count": 8,
   "metadata": {},
   "outputs": [
    {
     "data": {
      "text/markdown": [
       "\n",
       "                        <article style=\"background-color: rgb(70, 70, 70); margin: 10px; padding: 10px; height: auto; \n",
       "                        line-height: 1.5; width: 75%\"><b>You:</b> hi</article>\n",
       "                        "
      ],
      "text/plain": [
       "<IPython.core.display.Markdown object>"
      ]
     },
     "metadata": {},
     "output_type": "display_data"
    },
    {
     "data": {
      "text/markdown": [
       "\n",
       "                        <main style=\"background-color: rgb(0, 255, 0); margin: 10px; padding: 10px; height: auto; \n",
       "                        line-height: 1.5; width: 75%\"><b>AI:</b> <p>hmm... I'm not sure about that. Can you ask me something else?</p>\n",
       "</main>\n",
       "                        "
      ],
      "text/plain": [
       "<IPython.core.display.Markdown object>"
      ]
     },
     "metadata": {},
     "output_type": "display_data"
    }
   ],
   "source": [
    "from create_chatbot import Chatbot\n",
    "\n",
    "with open(\"text.txt\", \"r\") as file:\n",
    "    text = file.read()\n",
    "    #print(text)\n",
    "# Example usage\n",
    "a = Chatbot(\n",
    "    model_name=\"gpt-4o-mini\",\n",
    "    system_role_content=f\"\"\"You are an expert in answering questions and analyzing the following text.{dummy_content}\n",
    "                            Please answer any questions or prompts that relate to the text. If there is a question \n",
    "                            that does not relate to the text, please respond with the following:\n",
    "                            \"hmm... I'm not sure about that. Can you ask me something else?\" If the question is \n",
    "                            related to the text but requires additional context or inference, please provide the best \n",
    "                            possible answer based on the information given.\"\"\",\n",
    "    max_inputs=30,\n",
    "    input_length_limit=100,\n",
    "    tone=\"creative\"\n",
    ")\n",
    "a.chat()\n"
   ]
  }
 ],
 "metadata": {
  "kernelspec": {
   "display_name": "Python 3",
   "language": "python",
   "name": "python3"
  },
  "language_info": {
   "codemirror_mode": {
    "name": "ipython",
    "version": 3
   },
   "file_extension": ".py",
   "mimetype": "text/x-python",
   "name": "python",
   "nbconvert_exporter": "python",
   "pygments_lexer": "ipython3",
   "version": "3.11.3"
  }
 },
 "nbformat": 4,
 "nbformat_minor": 2
}
