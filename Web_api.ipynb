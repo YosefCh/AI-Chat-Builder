{
 "cells": [
  {
   "cell_type": "code",
   "execution_count": null,
   "id": "9ae9df95",
   "metadata": {},
   "outputs": [
    {
     "name": "stderr",
     "output_type": "stream",
     "text": [
      "C:\\Users\\Rebecca\\AppData\\Roaming\\Python\\Python311\\site-packages\\urllib3\\connectionpool.py:1100: InsecureRequestWarning: Unverified HTTPS request is being made to host 'serpapi.com'. Adding certificate verification is strongly advised. See: https://urllib3.readthedocs.io/en/latest/advanced-usage.html#tls-warnings\n",
      "  warnings.warn(\n"
     ]
    },
    {
     "name": "stdout",
     "output_type": "stream",
     "text": [
      "Human Behavioral Biology – 02 – Behavioral Evolution I\n",
      "https://alexvermeer.com/human-behavioral-biology-02-behavioral-evolution-i/\n",
      "\n",
      "Tournament Species vs Pair Bonding Species - Natural Law …\n",
      "https://naturallawinstitute.com/2018/07/tournament-species-vs-pair-bonding-species/\n",
      "\n",
      "Evolution and Strategies in Animal Societies - .NET …\n",
      "https://publicpdf.blob.core.windows.net/pdfs/human-behavioral-biology-robert-sapolsky/3__behavioral_evolution_ii.pdf\n",
      "\n"
     ]
    }
   ],
   "source": [
    "import requests\n",
    "\n",
    "# Replace with your real API key\n",
    "api_key = \"f32b9d4a631889f9f291892ce26eb0adc3bb4d1b0132bdd348463647b318080d\"\n",
    "query = \"tournament vs similar species\"\n",
    "\n",
    "params = {\n",
    "    \"engine\": \"bing\",\n",
    "    \"q\": query,\n",
    "    \"api_key\": api_key\n",
    "}\n",
    "\n",
    "response = requests.get(\"https://serpapi.com/search\", params=params, verify=False)\n",
    "results = response.json()\n",
    "\n",
    "# Print search results\n",
    "for result in results.get(\"organic_results\", [])[:3]:\n",
    "    print(result[\"title\"])\n",
    "    print(result[\"link\"])\n",
    "    print()\n"
   ]
  },
  {
   "cell_type": "code",
   "execution_count": 25,
   "id": "7d0e8a32",
   "metadata": {},
   "outputs": [
    {
     "name": "stderr",
     "output_type": "stream",
     "text": [
      "C:\\Users\\Rebecca\\AppData\\Roaming\\Python\\Python311\\site-packages\\urllib3\\connectionpool.py:1100: InsecureRequestWarning: Unverified HTTPS request is being made to host 'serpapi.com'. Adding certificate verification is strongly advised. See: https://urllib3.readthedocs.io/en/latest/advanced-usage.html#tls-warnings\n",
      "  warnings.warn(\n"
     ]
    },
    {
     "name": "stdout",
     "output_type": "stream",
     "text": [
      "Stigma Impacts Psychological, Physical ...\n",
      "https://www.rutgers.edu/sites/default/files/2020-10/PRMO_Multiracial_shutterstock_604308764.jpg\n"
     ]
    },
    {
     "data": {
      "text/html": [
       "<img src=\"https://www.rutgers.edu/sites/default/files/2020-10/PRMO_Multiracial_shutterstock_604308764.jpg\" width=\"200\"/>"
      ],
      "text/plain": [
       "<IPython.core.display.Image object>"
      ]
     },
     "metadata": {},
     "output_type": "display_data"
    },
    {
     "name": "stdout",
     "output_type": "stream",
     "text": [
      "\n",
      "Choose Your Own Identity - The New York ...\n",
      "https://static01.nyt.com/images/2015/12/07/magazine/07mag-multiracial/07mag-multiracial-superJumbo.jpg\n"
     ]
    },
    {
     "data": {
      "text/html": [
       "<img src=\"https://static01.nyt.com/images/2015/12/07/magazine/07mag-multiracial/07mag-multiracial-superJumbo.jpg\" width=\"200\"/>"
      ],
      "text/plain": [
       "<IPython.core.display.Image object>"
      ]
     },
     "metadata": {},
     "output_type": "display_data"
    },
    {
     "name": "stdout",
     "output_type": "stream",
     "text": [
      "\n"
     ]
    }
   ],
   "source": [
    "\n",
    "from IPython.display import Image, display \n",
    "query = \"multiracial people\"\n",
    "\n",
    "params = {\n",
    "    \"engine\": \"google_images\",\n",
    "    \"q\": query,\n",
    "    \"api_key\": api_key\n",
    "}\n",
    "\n",
    "response = requests.get(\"https://serpapi.com/search\", params=params, verify=False)\n",
    "results = response.json()\n",
    "\n",
    "# Display image titles and links\n",
    "#for img in results.get(\"images_results\", []):\n",
    "for img in results.get(\"images_results\", [])[:2]:\n",
    "\n",
    "    print(img.get(\"title\"))\n",
    "    print(img.get(\"original\"))\n",
    "    display(Image(url=img.get(\"original\"), width=200))  # Adjust size here\n",
    "    print()\n"
   ]
  },
  {
   "cell_type": "markdown",
   "id": "bea02109",
   "metadata": {},
   "source": [
    "### __We still have to work on videos__"
   ]
  }
 ],
 "metadata": {
  "kernelspec": {
   "display_name": "Python 3",
   "language": "python",
   "name": "python3"
  },
  "language_info": {
   "codemirror_mode": {
    "name": "ipython",
    "version": 3
   },
   "file_extension": ".py",
   "mimetype": "text/x-python",
   "name": "python",
   "nbconvert_exporter": "python",
   "pygments_lexer": "ipython3",
   "version": "3.11.3"
  }
 },
 "nbformat": 4,
 "nbformat_minor": 5
}
